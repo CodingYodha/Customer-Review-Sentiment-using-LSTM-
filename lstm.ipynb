{
  "nbformat": 4,
  "nbformat_minor": 0,
  "metadata": {
    "colab": {
      "provenance": [],
      "gpuType": "T4",
      "authorship_tag": "ABX9TyM/T+S8PxkxlUp1yUmYvZol",
      "include_colab_link": true
    },
    "kernelspec": {
      "name": "python3",
      "display_name": "Python 3"
    },
    "language_info": {
      "name": "python"
    },
    "accelerator": "GPU"
  },
  "cells": [
    {
      "cell_type": "markdown",
      "metadata": {
        "id": "view-in-github",
        "colab_type": "text"
      },
      "source": [
        "<a href=\"https://colab.research.google.com/github/CodingYodha/Customer-Review-Sentiment-using-LSTM-/blob/main/lstm.ipynb\" target=\"_parent\"><img src=\"https://colab.research.google.com/assets/colab-badge.svg\" alt=\"Open In Colab\"/></a>"
      ]
    },
    {
      "cell_type": "code",
      "source": [
        "!git clone https://github.com/CodingYodha/Customer-Review-Sentiment-using-LSTM-.git"
      ],
      "metadata": {
        "id": "60cdckaXBWkt"
      },
      "execution_count": null,
      "outputs": []
    },
    {
      "cell_type": "code",
      "execution_count": null,
      "metadata": {
        "id": "kKQoJJZ9AMU2"
      },
      "outputs": [],
      "source": [
        "import pandas as pd"
      ]
    },
    {
      "cell_type": "code",
      "source": [
        "df = pd.read_csv('/content/Customer-Review-Sentiment-using-LSTM-/1429_1.csv')"
      ],
      "metadata": {
        "id": "pTt6-ur4C9jd"
      },
      "execution_count": null,
      "outputs": []
    },
    {
      "cell_type": "code",
      "source": [
        "df.info()"
      ],
      "metadata": {
        "id": "y5NJKGLZDItg"
      },
      "execution_count": null,
      "outputs": []
    },
    {
      "cell_type": "code",
      "source": [
        "for col in df.columns:\n",
        "  print('\\n')\n",
        "  print('='*75)\n",
        "  print(col)\n",
        "  print('='*75)\n",
        "  print(df[col].value_counts())\n",
        "  print('='*75)\n",
        "  print('\\n')"
      ],
      "metadata": {
        "id": "TLo1wu8_u8R2"
      },
      "execution_count": null,
      "outputs": []
    },
    {
      "cell_type": "code",
      "source": [
        "df.columns"
      ],
      "metadata": {
        "id": "c9hktCqKumIL"
      },
      "execution_count": null,
      "outputs": []
    },
    {
      "cell_type": "code",
      "source": [
        "columns = ['id', 'name', 'asins', 'brand', 'categories', 'keys', 'manufacturer',\n",
        "       'reviews.date', 'reviews.dateAdded', 'reviews.dateSeen',\n",
        "       'reviews.didPurchase', 'reviews.id',\n",
        "       'reviews.numHelpful', 'reviews.sourceURLs',\n",
        "       'reviews.title', 'reviews.userCity',\n",
        "       'reviews.userProvince', 'reviews.username']\n",
        "\n",
        "dfn = df.drop(columns = columns)\n",
        "dfn.head(3)"
      ],
      "metadata": {
        "id": "nebFPxmsujtw"
      },
      "execution_count": null,
      "outputs": []
    },
    {
      "cell_type": "code",
      "source": [
        "dfn.info()"
      ],
      "metadata": {
        "id": "wQAkAEBlDKDX"
      },
      "execution_count": null,
      "outputs": []
    },
    {
      "cell_type": "code",
      "source": [
        "dfn.dropna(inplace=True)"
      ],
      "metadata": {
        "id": "HR5w3lFYuJf7"
      },
      "execution_count": null,
      "outputs": []
    },
    {
      "cell_type": "code",
      "source": [
        "dfn.info()"
      ],
      "metadata": {
        "id": "BgPbk6ulzXjY"
      },
      "execution_count": null,
      "outputs": []
    },
    {
      "cell_type": "code",
      "source": [
        "!pip install contractions emoji"
      ],
      "metadata": {
        "id": "V8_yox004DCN"
      },
      "execution_count": null,
      "outputs": []
    },
    {
      "cell_type": "code",
      "source": [
        "!pip install contractions"
      ],
      "metadata": {
        "id": "hvgIVC4X3vnG"
      },
      "execution_count": null,
      "outputs": []
    },
    {
      "cell_type": "code",
      "source": [
        "import re\n",
        "import string\n",
        "import numpy as np\n",
        "import contractions\n",
        "import emoji\n",
        "import spacy\n",
        "from sklearn.feature_extraction.text import TfidfVectorizer\n",
        "from textblob import TextBlob  # Still using TextBlob for sentiment scores\n",
        "import pandas as pd\n",
        "import spacy\n",
        "from sklearn.model_selection import train_test_split\n",
        "from sklearn.preprocessing import LabelEncoder\n",
        "from tensorflow.keras.preprocessing.text import Tokenizer\n",
        "from tensorflow.keras.preprocessing.sequence import pad_sequences\n",
        "from tensorflow.keras.models import Sequential\n",
        "from tensorflow.keras.layers import Embedding, LSTM, Dense, Dropout\n",
        "\n",
        "\n",
        "class TextPreprocessor:\n",
        "    def __init__(self, remove_stopwords=True, use_lemmatization=True):\n",
        "        # Load spaCy English model\n",
        "        self.nlp = spacy.load('en_core_web_sm', disable=['parser', 'ner'])\n",
        "        self.remove_stopwords = remove_stopwords\n",
        "        self.use_lemmatization = use_lemmatization\n",
        "\n",
        "        # Custom stopwords\n",
        "        self.custom_stopwords = {'movie', 'film', 'show', 'watch', 'seen'}\n",
        "        self.stop_words = self.nlp.Defaults.stop_words.union(self.custom_stopwords)\n",
        "\n",
        "    def clean_text(self, text):\n",
        "        \"\"\"Basic text cleaning before spaCy processing\"\"\"\n",
        "        if not isinstance(text, str):\n",
        "            text = str(text)\n",
        "\n",
        "        # Expand contractions\n",
        "        text = contractions.fix(text)\n",
        "\n",
        "        # Convert emojis to text\n",
        "        text = emoji.demojize(text)\n",
        "\n",
        "        # Remove URLs and HTML tags\n",
        "        text = re.sub(r'http\\S+|www\\S+|https\\S+|<.*?>', '', text)\n",
        "\n",
        "        return text\n",
        "\n",
        "    def handle_negation(self, doc):\n",
        "        \"\"\"Handle negation using spaCy tokens\"\"\"\n",
        "        negation_tokens = {'not', 'no', 'never', 'none', \"n't\", 'neither', 'nor'}\n",
        "        negated = []\n",
        "        negate = False\n",
        "\n",
        "        for token in doc:\n",
        "            if token.lower_ in negation_tokens:\n",
        "                negate = True\n",
        "            elif token.is_punct:\n",
        "                negate = False\n",
        "            elif negate:\n",
        "                negated.append(f'NOT_{token.lemma_}')\n",
        "            else:\n",
        "                negated.append(token.lemma_)\n",
        "        return negated\n",
        "\n",
        "    def preprocess(self, text):\n",
        "        \"\"\"Complete spaCy-based preprocessing pipeline\"\"\"\n",
        "        try:\n",
        "            # Clean text first\n",
        "            text = self.clean_text(text)\n",
        "\n",
        "            # Process with spaCy\n",
        "            doc = self.nlp(text)\n",
        "\n",
        "            # Handle negation and lemmatize\n",
        "            tokens = self.handle_negation(doc)\n",
        "\n",
        "            # Filter stopwords and punctuation\n",
        "            if self.remove_stopwords:\n",
        "                tokens = [\n",
        "                    token for token in tokens\n",
        "                    if (token.lower() not in self.stop_words) and\n",
        "                       (not self.nlp.vocab[token].is_punct)\n",
        "                ]\n",
        "\n",
        "            return tokens\n",
        "\n",
        "        except Exception as e:\n",
        "            print(f\"Error preprocessing text: {str(e)}\")\n",
        "            return []\n",
        "\n",
        "class FeatureExtractor:\n",
        "    def __init__(self, max_features=5000, ngram_range=(1, 3)):\n",
        "        self.vectorizer = TfidfVectorizer(\n",
        "            max_features=max_features,\n",
        "            ngram_range=ngram_range,\n",
        "            min_df=2,\n",
        "            max_df=0.95\n",
        "        )\n",
        "\n",
        "    def fit_transform(self, texts):\n",
        "        processed_texts = [' '.join(tokens) for tokens in texts]\n",
        "        return self.vectorizer.fit_transform(processed_texts)\n",
        "\n",
        "    def transform(self, texts):\n",
        "        processed_texts = [' '.join(tokens) for tokens in texts]\n",
        "        return self.vectorizer.transform(processed_texts)\n",
        "\n",
        "def prepare_lstm_data(df):\n",
        "    # Initialize preprocessor\n",
        "    preprocessor = TextPreprocessor(remove_stopwords=True, use_lemmatization=True)\n",
        "\n",
        "    # Preprocess texts\n",
        "    print(\"Preprocessing texts...\")\n",
        "    df['processed_text'] = df['reviews.text'].apply(preprocessor.preprocess)\n",
        "\n",
        "    # Convert tokens to strings\n",
        "    df['processed_text'] = df['processed_text'].apply(lambda x: ' '.join(x))\n",
        "\n",
        "    # Convert ratings to labels (example: 1-5 stars to binary sentiment)\n",
        "    # Modify this based on your rating scale\n",
        "    df['sentiment'] = df['reviews.rating'].apply(lambda x: 1 if x > 3 else 0)\n",
        "\n",
        "    return df\n",
        "\n"
      ],
      "metadata": {
        "id": "il-NziHbzY3l"
      },
      "execution_count": null,
      "outputs": []
    },
    {
      "cell_type": "code",
      "source": [
        "dfn = prepare_lstm_data(dfn)"
      ],
      "metadata": {
        "id": "x2TcSHv32wzM"
      },
      "execution_count": null,
      "outputs": []
    },
    {
      "cell_type": "code",
      "source": [
        "x = dfn['processed_text']\n",
        "y = dfn['sentiment']\n",
        "\n",
        "from sklearn.model_selection import train_test_split\n",
        "x_train, x_test, y_train, y_test = train_test_split(x, y, test_size=0.2, random_state=42)\n",
        "\n",
        "tokenizer = Tokenizer(num_words=5000 , oov_token='<OOV>')\n",
        "tokenizer.fit_on_texts(x_train)\n",
        "\n",
        "x_train_seq = tokenizer.texts_to_sequences(x_train)\n",
        "x_test_seq = tokenizer.texts_to_sequences(x_test)"
      ],
      "metadata": {
        "id": "j8FODC3E20oq"
      },
      "execution_count": null,
      "outputs": []
    },
    {
      "cell_type": "code",
      "source": [
        "sequence_lengths = [len(seq.split()) for seq in dfn['processed_text']]\n",
        "\n",
        "import matplotlib.pyplot as plt\n",
        "plt.hist(sequence_lengths, bins=50)\n",
        "plt.xlabel(\"Sequence Length\")\n",
        "plt.ylabel(\"Frequency\")\n",
        "plt.title(\"Distribution of Sequence Lengths\")\n",
        "plt.show()\n"
      ],
      "metadata": {
        "colab": {
          "base_uri": "https://localhost:8080/",
          "height": 472
        },
        "id": "nrKybMxT7zN0",
        "outputId": "6fbd335a-9d82-4610-b7f0-0f452ae17875"
      },
      "execution_count": 78,
      "outputs": [
        {
          "output_type": "display_data",
          "data": {
            "text/plain": [
              "<Figure size 640x480 with 1 Axes>"
            ],
            "image/png": "[encoded data removed]"
          },
          "metadata": {}
        }
      ]
    },
    {
      "cell_type": "code",
      "source": [
        "import numpy as np\n",
        "sequence_lengths = [len(seq.split()) for seq in dfn['processed_text']]\n",
        "max_length = int(np.percentile(sequence_lengths, 90))\n",
        "print(\"90th Percentile Length:\", max_length)\n"
      ],
      "metadata": {
        "colab": {
          "base_uri": "https://localhost:8080/"
        },
        "id": "zbxEnTxD75-s",
        "outputId": "facc2b15-6677-457f-93ad-bdc8280fc3ac"
      },
      "execution_count": 79,
      "outputs": [
        {
          "output_type": "stream",
          "name": "stdout",
          "text": [
            "90th Percentile Length: 28\n"
          ]
        }
      ]
    },
    {
      "cell_type": "code",
      "source": [
        "from tensorflow.keras.preprocessing.sequence import pad_sequences\n",
        "\n",
        "x_train_padded = pad_sequences(x_train_seq, maxlen=max_length, padding='post', truncating='post')\n",
        "x_test_padded = pad_sequences(x_test_seq, maxlen=max_length, padding='post', truncating='post')"
      ],
      "metadata": {
        "id": "06jim3jC5cu-"
      },
      "execution_count": 80,
      "outputs": []
    },
    {
      "cell_type": "code",
      "source": [
        "!wget http://nlp.stanford.edu/data/glove.6B.zip\n",
        "!unzip glove*.zip\n",
        "\n",
        "import numpy as np\n",
        "\n",
        "def load_glove_vectors(glove_file_path='glove.6B.300d.txt'):\n",
        "    \"\"\"Loads GloVe word embeddings from a text file.\n",
        "\n",
        "    Args:\n",
        "        glove_file_path (str): Path to the GloVe embeddings file.\n",
        "\n",
        "    Returns:\n",
        "        dict: A dictionary mapping words to their embedding vectors.\n",
        "    \"\"\"\n",
        "    embeddings_index = {}\n",
        "    with open(glove_file_path, 'r', encoding='utf-8') as f:\n",
        "        for line in f:\n",
        "            values = line.split()\n",
        "            word = values[0]\n",
        "            coefs = np.asarray(values[1:], dtype='float32')\n",
        "            embeddings_index[word] = coefs\n",
        "    return embeddings_index\n",
        "\n",
        "# Get the vocabulary size from the tokenizer\n",
        "vocab_size = len(tokenizer.word_index) + 1  # Add 1 for the OOV token\n",
        "\n",
        "# Load the GloVe embeddings\n",
        "embeddings_index = load_glove_vectors()\n",
        "\n",
        "# Create an embedding matrix with GloVe vectors for your vocabulary\n",
        "embedding_matrix = np.zeros((vocab_size, 300))  # 300 is the embedding dimension\n",
        "for word, index in tokenizer.word_index.items():\n",
        "    embedding_vector = embeddings_index.get(word)\n",
        "    if embedding_vector is not None:\n",
        "        embedding_matrix[index] = embedding_vector\n",
        "\n",
        "# Create the embedding layer\n",
        "embedding_layer = Embedding(\n",
        "    input_dim=vocab_size,\n",
        "    output_dim=300,  # Embedding dimension (adjust as needed)\n",
        "    weights=[embedding_matrix],\n",
        "    trainable=False  # Freeze embeddings if desired\n",
        ")\n",
        "\n",
        "# Add the embedding layer to your model\n",
        "model.add(embedding_layer)"
      ],
      "metadata": {
        "colab": {
          "base_uri": "https://localhost:8080/"
        },
        "id": "fcn2tKAaAdsk",
        "outputId": "95f86c27-936f-4775-9548-bbf7ce6fd3a0"
      },
      "execution_count": 81,
      "outputs": [
        {
          "output_type": "stream",
          "name": "stdout",
          "text": [
            "--2025-03-10 13:36:44--  http://nlp.stanford.edu/data/glove.6B.zip\n",
            "Resolving nlp.stanford.edu (nlp.stanford.edu)... 171.64.67.140\n",
            "Connecting to nlp.stanford.edu (nlp.stanford.edu)|171.64.67.140|:80... connected.\n",
            "HTTP request sent, awaiting response... 302 Found\n",
            "Location: https://nlp.stanford.edu/data/glove.6B.zip [following]\n",
            "--2025-03-10 13:36:44--  https://nlp.stanford.edu/data/glove.6B.zip\n",
            "Connecting to nlp.stanford.edu (nlp.stanford.edu)|171.64.67.140|:443... connected.\n",
            "HTTP request sent, awaiting response... 301 Moved Permanently\n",
            "Location: https://downloads.cs.stanford.edu/nlp/data/glove.6B.zip [following]\n",
            "--2025-03-10 13:36:44--  https://downloads.cs.stanford.edu/nlp/data/glove.6B.zip\n",
            "Resolving downloads.cs.stanford.edu (downloads.cs.stanford.edu)... 171.64.64.22\n",
            "Connecting to downloads.cs.stanford.edu (downloads.cs.stanford.edu)|171.64.64.22|:443... connected.\n",
            "HTTP request sent, awaiting response... 200 OK\n",
            "Length: 862182613 (822M) [application/zip]\n",
            "Saving to: ‘glove.6B.zip.2’\n",
            "\n",
            "glove.6B.zip.2      100%[===================>] 822.24M  4.95MB/s    in 2m 41s  \n",
            "\n",
            "2025-03-10 13:39:25 (5.10 MB/s) - ‘glove.6B.zip.2’ saved [862182613/862182613]\n",
            "\n",
            "Archive:  glove.6B.zip\n",
            "replace glove.6B.50d.txt? [y]es, [n]o, [A]ll, [N]one, [r]ename: A\n",
            "  inflating: glove.6B.50d.txt        \n",
            "  inflating: glove.6B.100d.txt       \n",
            "  inflating: glove.6B.200d.txt       \n",
            "  inflating: glove.6B.300d.txt       \n"
          ]
        }
      ]
    },
    {
      "cell_type": "code",
      "source": [
        "model = Sequential([\n",
        "    embedding_layer,  # Assuming you added the embedding layer correctly\n",
        "    LSTM(64, return_sequences=False),  # Set return_sequences=True for the first LSTM layer\n",
        "\n",
        "    Dropout(0.3),\n",
        "    # LSTM(32),  # If using another LSTM, it can now receive 3D input\n",
        "    # Dropout(0.3),\n",
        "    Dense(1, activation='sigmoid') #The output layer should have a single neuron with a sigmoid activation\n",
        "])"
      ],
      "metadata": {
        "id": "KKa6vt0s8IxV"
      },
      "execution_count": 86,
      "outputs": []
    },
    {
      "cell_type": "code",
      "source": [],
      "metadata": {
        "id": "8aP8bfNtA0Us"
      },
      "execution_count": null,
      "outputs": []
    },
    {
      "cell_type": "code",
      "source": [
        "from tensorflow.keras.callbacks import EarlyStopping\n",
        "early_stop = EarlyStopping(\n",
        "    monitor='val_loss',\n",
        "    patience=3,  # Wait 3 epochs after validation loss increases\n",
        "    restore_best_weights=True\n",
        ")"
      ],
      "metadata": {
        "id": "ad2HTnJxAB3d"
      },
      "execution_count": 87,
      "outputs": []
    },
    {
      "cell_type": "code",
      "source": [
        "from tensorflow.keras.optimizers import Adam\n",
        "\n",
        "model.compile(\n",
        "    loss='binary_crossentropy',\n",
        "    optimizer = Adam(learning_rate=0.0001),\n",
        "    metrics=['accuracy']\n",
        ")"
      ],
      "metadata": {
        "id": "uheLejs08Qq0"
      },
      "execution_count": 88,
      "outputs": []
    },
    {
      "cell_type": "code",
      "source": [
        "history = model.fit(\n",
        "    x_train_padded,\n",
        "    y_train,\n",
        "    epochs=10,\n",
        "    batch_size=64,\n",
        "    validation_data=(x_test_padded, y_test),\n",
        "    verbose=1,\n",
        "    callbacks=[early_stop]\n",
        ")"
      ],
      "metadata": {
        "colab": {
          "base_uri": "https://localhost:8080/"
        },
        "id": "7q5F0j-Y8Sz0",
        "outputId": "bb216695-fab6-49c5-86ee-3fdac20c0ece"
      },
      "execution_count": 89,
      "outputs": [
        {
          "output_type": "stream",
          "name": "stdout",
          "text": [
            "Epoch 1/10\n",
            "\u001b[1m426/426\u001b[0m \u001b[32m━━━━━━━━━━━━━━━━━━━━\u001b[0m\u001b[37m\u001b[0m \u001b[1m5s\u001b[0m 7ms/step - accuracy: 0.9236 - loss: 0.4328 - val_accuracy: 0.9334 - val_loss: 0.2264\n",
            "Epoch 2/10\n",
            "\u001b[1m426/426\u001b[0m \u001b[32m━━━━━━━━━━━━━━━━━━━━\u001b[0m\u001b[37m\u001b[0m \u001b[1m3s\u001b[0m 7ms/step - accuracy: 0.9367 - loss: 0.2133 - val_accuracy: 0.9334 - val_loss: 0.1986\n",
            "Epoch 3/10\n",
            "\u001b[1m426/426\u001b[0m \u001b[32m━━━━━━━━━━━━━━━━━━━━\u001b[0m\u001b[37m\u001b[0m \u001b[1m3s\u001b[0m 7ms/step - accuracy: 0.9342 - loss: 0.1938 - val_accuracy: 0.9351 - val_loss: 0.1919\n",
            "Epoch 4/10\n",
            "\u001b[1m426/426\u001b[0m \u001b[32m━━━━━━━━━━━━━━━━━━━━\u001b[0m\u001b[37m\u001b[0m \u001b[1m5s\u001b[0m 7ms/step - accuracy: 0.9362 - loss: 0.1859 - val_accuracy: 0.9373 - val_loss: 0.1879\n",
            "Epoch 5/10\n",
            "\u001b[1m426/426\u001b[0m \u001b[32m━━━━━━━━━━━━━━━━━━━━\u001b[0m\u001b[37m\u001b[0m \u001b[1m3s\u001b[0m 7ms/step - accuracy: 0.9369 - loss: 0.1782 - val_accuracy: 0.9341 - val_loss: 0.1924\n",
            "Epoch 6/10\n",
            "\u001b[1m426/426\u001b[0m \u001b[32m━━━━━━━━━━━━━━━━━━━━\u001b[0m\u001b[37m\u001b[0m \u001b[1m3s\u001b[0m 7ms/step - accuracy: 0.9400 - loss: 0.1746 - val_accuracy: 0.9369 - val_loss: 0.1905\n",
            "Epoch 7/10\n",
            "\u001b[1m426/426\u001b[0m \u001b[32m━━━━━━━━━━━━━━━━━━━━\u001b[0m\u001b[37m\u001b[0m \u001b[1m3s\u001b[0m 8ms/step - accuracy: 0.9424 - loss: 0.1694 - val_accuracy: 0.9394 - val_loss: 0.1827\n",
            "Epoch 8/10\n",
            "\u001b[1m426/426\u001b[0m \u001b[32m━━━━━━━━━━━━━━━━━━━━\u001b[0m\u001b[37m\u001b[0m \u001b[1m4s\u001b[0m 8ms/step - accuracy: 0.9408 - loss: 0.1713 - val_accuracy: 0.9400 - val_loss: 0.1840\n",
            "Epoch 9/10\n",
            "\u001b[1m426/426\u001b[0m \u001b[32m━━━━━━━━━━━━━━━━━━━━\u001b[0m\u001b[37m\u001b[0m \u001b[1m4s\u001b[0m 6ms/step - accuracy: 0.9433 - loss: 0.1604 - val_accuracy: 0.9381 - val_loss: 0.1832\n",
            "Epoch 10/10\n",
            "\u001b[1m426/426\u001b[0m \u001b[32m━━━━━━━━━━━━━━━━━━━━\u001b[0m\u001b[37m\u001b[0m \u001b[1m3s\u001b[0m 7ms/step - accuracy: 0.9444 - loss: 0.1624 - val_accuracy: 0.9307 - val_loss: 0.1874\n"
          ]
        }
      ]
    },
    {
      "cell_type": "code",
      "source": [
        "import matplotlib.pyplot as plt\n",
        "\n",
        "plt.plot(history.history['accuracy'], label='Training Accuracy')\n",
        "plt.plot(history.history['val_accuracy'], label='Validation Accuracy')\n",
        "plt.xlabel('Epochs')\n",
        "plt.ylabel('Accuracy')\n",
        "plt.legend()\n",
        "plt.title('Model Accuracy')\n",
        "plt.show()\n"
      ],
      "metadata": {
        "colab": {
          "base_uri": "https://localhost:8080/",
          "height": 472
        },
        "id": "8WJvHMz_9I6R",
        "outputId": "c81fc76d-0ecd-447a-ed51-7b6fa32695a9"
      },
      "execution_count": 90,
      "outputs": [
        {
          "output_type": "display_data",
          "data": {
            "text/plain": [
              "<Figure size 640x480 with 1 Axes>"
            ],
            "image/png": "[encoded data removed]"
          },
          "metadata": {}
        }
      ]
    }
  ]
}